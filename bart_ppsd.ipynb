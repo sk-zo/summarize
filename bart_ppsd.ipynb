{
 "cells": [
  {
   "cell_type": "code",
   "execution_count": null,
   "metadata": {},
   "outputs": [],
   "source": [
    "import torch\n",
    "from transformers import BartTokenizer, BartForConditionalGeneration, BartConfig, AdamW, get_linear_schedule_with_warmup\n",
    "from datasets import load_dataset, load_metric\n",
    "from compare_mt.rouge.rouge_scorer import RougeScorer\n",
    "import pickle\n",
    "from torch.nn import CrossEntropyLoss"
   ]
  },
  {
   "cell_type": "code",
   "execution_count": null,
   "metadata": {},
   "outputs": [],
   "source": [
    "device = torch.device('cuda')\n",
    "torch.cuda.set_device(f'cuda:{0}')"
   ]
  },
  {
   "cell_type": "code",
   "execution_count": null,
   "metadata": {},
   "outputs": [],
   "source": [
    "# load pretrained model\n",
    "tokenizer = BartTokenizer.from_pretrained('facebook/bart-base')\n",
    "model = BartForConditionalGeneration.from_pretrained('facebook/bart-base').to(device)"
   ]
  },
  {
   "cell_type": "code",
   "execution_count": null,
   "metadata": {},
   "outputs": [],
   "source": [
    "# load train tokens\n",
    "train_data_path = ''\n",
    "with open(train_data_path, 'rb') as f:\n",
    "    train_token = pickle.load(f)"
   ]
  },
  {
   "cell_type": "code",
   "execution_count": null,
   "metadata": {},
   "outputs": [],
   "source": [
    "# data shuffle\n",
    "import random\n",
    "random.seed(100)\n",
    "random.shuffle(train_token)"
   ]
  },
  {
   "cell_type": "markdown",
   "metadata": {},
   "source": [
    "### Model training"
   ]
  },
  {
   "cell_type": "code",
   "execution_count": null,
   "metadata": {},
   "outputs": [],
   "source": [
    "loss_fct = CrossEntropyLoss(ignore_index=1)\n",
    "optimizer = AdamW(model.parameters(), lr=3e-5)\n",
    "scheduler = get_linear_schedule_with_warmup(optimizer, 500, 15000)\n",
    "gradient_accumulation_steps = 2\n",
    "\n",
    "model.zero_grad()\n",
    "\n",
    "max_epoch = 1\n",
    "\n",
    "\n",
    "'''\n",
    "option:\n",
    " 'weight': weigt multiplication\n",
    " 'zscore'\n",
    " 'division': (m:n) internal division\n",
    "\n",
    "ratio:\n",
    " if option='weight': weight ratio\n",
    " if option='zscore': pass\n",
    " if option='division': m:n ratio\n",
    " \n",
    "'''\n",
    "\n",
    "ratio = [1, 1]\n",
    "\n",
    "for _ in range(max_epoch):\n",
    "    for step, batch in enumerate(train_token):\n",
    "        document, summary = torch.tensor(batch['document']).unsqueeze(0).to(device), torch.tensor(batch['summary']).unsqueeze(0).to(device)\n",
    "        sent_ids = [batch['pos'], batch['nos']]\n",
    "        \n",
    "        model.train()\n",
    "        \n",
    "        loss = model(input_ids=document, decoder_input_ids=summary[..., :-1], labels = summary[..., 1:], option='division', sent_ids=sent_ids, ratio=ratio)[0]\n",
    "        loss.backward()\n",
    "        torch.nn.utils.clip_grad_norm_(model.parameters(), 0.1)\n",
    "\n",
    "        if (step + 1) % gradient_accumulation_steps == 0:\n",
    "            optimizer.step()\n",
    "            scheduler.step()\n",
    "            model.zero_grad()"
   ]
  },
  {
   "cell_type": "code",
   "execution_count": null,
   "metadata": {},
   "outputs": [],
   "source": [
    "save_path = ''\n",
    "\n",
    "# save fine-tuned model\n",
    "model.save_pretrained(save_path)\n",
    "tokenizer.save_pretrained(save_path)\n",
    "\n",
    "# load fine-tuned model\n",
    "tokenizer = BartTokenizer.from_pretrained(save_path)\n",
    "model = BartForConditionalGeneration.from_pretrained(save_path).to(device)"
   ]
  },
  {
   "cell_type": "markdown",
   "metadata": {},
   "source": [
    "### Model evaluation"
   ]
  },
  {
   "cell_type": "code",
   "execution_count": null,
   "metadata": {},
   "outputs": [],
   "source": [
    "# evaluation metric\n",
    "from compare_mt.rouge.rouge_scorer import RougeScorer\n",
    "\n",
    "rouge_scorer = RougeScorer(['rouge1', 'rouge2', 'rougeLsum'], use_stemmer=True)\n",
    "bertscorer = load_metric(\"bertscore\")"
   ]
  },
  {
   "cell_type": "code",
   "execution_count": null,
   "metadata": {},
   "outputs": [],
   "source": [
    "# load test data\n",
    "test_data_path = ''\n",
    "with open(test_data_path, 'rb') as f:\n",
    "    test_token = pickle.load(f)"
   ]
  },
  {
   "cell_type": "code",
   "execution_count": null,
   "metadata": {},
   "outputs": [],
   "source": [
    "def get_score(model, tokenizer, test_data):\n",
    "    rouge1 = 0\n",
    "    rouge2 = 0\n",
    "    rougeLsum = 0\n",
    "    bertscore = 0\n",
    "\n",
    "    n = len(test_data)\n",
    "    \n",
    "    for row in test_data:\n",
    "        input_tokens = torch.tensor(row['document']).unsqueeze(0).to(device)\n",
    "        sum_ids = model.generate(input_tokens, num_beams=6, max_length=62, early_stopping=True, no_repeat_ngram_size=3)\n",
    "        summary = [tokenizer.decode(g, skip_special_tokens=True, clean_up_tokenization_spaces=False) for g in sum_ids]\n",
    "        summary = summary[0]\n",
    "        ref = tokenizer.decode(row['summary'], skip_special_tokens=True)\n",
    "\n",
    "        # ROUGE\n",
    "        score = rouge_scorer.score(summary, ref)\n",
    "        rouge1 += score['rouge1'].fmeasure\n",
    "        rouge2 += score['rouge2'].fmeasure\n",
    "        rougeLsum += score['rougeLsum'].fmeasure\n",
    "\n",
    "        # BertScore\n",
    "        results = bertscorer.compute(predictions=[summary], references=[ref], lang='en')\n",
    "        b_s = results['f1'][0]\n",
    "        bertscore += b_s\n",
    "        \n",
    "    rouge1 /= n\n",
    "    rouge2 /= n\n",
    "    rougeLsum /= n\n",
    "    bertscore /= n\n",
    "        \n",
    "    return rouge1, rouge2, rougeLsum, bertscore"
   ]
  },
  {
   "cell_type": "code",
   "execution_count": null,
   "metadata": {},
   "outputs": [],
   "source": [
    "# model evaluation\n",
    "rouge1, rouge2, rougeLsum, bert_score = get_score(model, tokenizer, test_token)\n",
    "print(rouge1, rouge2, rougeLsum, bert_score)"
   ]
  },
  {
   "cell_type": "markdown",
   "metadata": {},
   "source": []
  }
 ],
 "metadata": {
  "interpreter": {
   "hash": "63715d946d587f21388067719460fe3c115e7e1ce8ebae6f2a9385d802649f6b"
  },
  "kernelspec": {
   "display_name": "Python 3.7.10 64-bit ('sbert': conda)",
   "name": "python3"
  },
  "language_info": {
   "codemirror_mode": {
    "name": "ipython",
    "version": 3
   },
   "file_extension": ".py",
   "mimetype": "text/x-python",
   "name": "python",
   "nbconvert_exporter": "python",
   "pygments_lexer": "ipython3",
   "version": "3.7.10"
  },
  "orig_nbformat": 4
 },
 "nbformat": 4,
 "nbformat_minor": 2
}
